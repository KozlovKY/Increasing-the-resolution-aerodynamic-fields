{
  "cells": [
    {
      "cell_type": "code",
      "source": [
        "from google.colab import drive\n",
        "drive.mount('/content/drive')"
      ],
      "metadata": {
        "colab": {
          "base_uri": "https://localhost:8080/"
        },
        "id": "ZtHU1gWhV-x1",
        "outputId": "2de3d590-cd59-459e-803a-e119b76713ab"
      },
      "id": "ZtHU1gWhV-x1",
      "execution_count": 1,
      "outputs": [
        {
          "output_type": "stream",
          "name": "stdout",
          "text": [
            "Mounted at /content/drive\n"
          ]
        }
      ]
    },
    {
      "cell_type": "code",
      "source": [
        "import zipfile\n",
        "with zipfile.ZipFile('/content/drive/MyDrive/data-aeroflow/data_step 2.zip', 'r') as zip_ref:\n",
        "    zip_ref.extractall('/content/sample_data/data')"
      ],
      "metadata": {
        "id": "ulE1mIFHV9ku"
      },
      "id": "ulE1mIFHV9ku",
      "execution_count": 2,
      "outputs": []
    },
    {
      "cell_type": "code",
      "execution_count": 4,
      "id": "403b749b-75ef-4fdb-a2f7-46c6a18b331d",
      "metadata": {
        "tags": [],
        "id": "403b749b-75ef-4fdb-a2f7-46c6a18b331d"
      },
      "outputs": [],
      "source": [
        "import os\n",
        "from typing import Union\n",
        "import numpy as np\n",
        "import cv2\n",
        "import openfoamparser_mai as Ofpp\n",
        "import random\n",
        "\n",
        "PathLike = Union[str, os.PathLike]\n",
        "\n",
        "LOW_DIM = 'low_dim'\n",
        "HIGH_DIM = 'high_dim'\n",
        "\n",
        "\n",
        "def max_timestep(simulation: PathLike) -> PathLike:\n",
        "    timestep = str(max(map(lambda x: int(x) if x.isdigit() else -1, os.listdir(simulation))))\n",
        "    return os.path.join(simulation, timestep)\n",
        "\n",
        "\n",
        "def read_mesh_centers(simulation: PathLike):\n",
        "    timestep = max_timestep(simulation)\n",
        "    Cx = Ofpp.parse_internal_field(os.path.join(timestep, 'Cx'))\n",
        "    Cy = Ofpp.parse_internal_field(os.path.join(timestep, 'Cy'))\n",
        "    Cz = Ofpp.parse_internal_field(os.path.join(timestep, 'Cz'))\n",
        "    return np.dstack((Cx, Cy, Cz))[0]\n",
        "\n",
        "\n",
        "def read_speed_vector_field(simulation: PathLike):\n",
        "    timestep = max_timestep(simulation)\n",
        "    U = Ofpp.parse_internal_field(os.path.join(timestep, 'U'))\n",
        "    return U\n",
        "\n",
        "\n",
        "def read_pressure_field(simulation: PathLike):\n",
        "    timestep = max_timestep(simulation)\n",
        "    p = Ofpp.parse_internal_field(os.path.join(timestep, 'p'))\n",
        "    return p\n",
        "\n",
        "\n",
        "def read_simulation(simulation: PathLike):\n",
        "    C = read_mesh_centers(simulation)\n",
        "    U = read_speed_vector_field(simulation)\n",
        "    p = read_pressure_field(simulation)\n",
        "    return C, U, p\n",
        "\n",
        "\n",
        "def read_geometry(path_to_geometry: PathLike):\n",
        "    low_dim_path = os.path.join(path_to_geometry, LOW_DIM)\n",
        "    high_dim_path = os.path.join(path_to_geometry, HIGH_DIM)\n",
        "    low_list_dir = [i for i in os.listdir(low_dim_path) if i[0] != '.']\n",
        "    high_list_dir = [i for i in os.listdir(high_dim_path) if i[0] != '.']\n",
        "   \n",
        "    low_dim = np.array(list(map(read_simulation, map(lambda x: os.path.join(path_to_geometry,LOW_DIM, x), low_list_dir))))\n",
        "    high_dim = np.array(list(map(read_simulation, map(lambda x: os.path.join(path_to_geometry,HIGH_DIM, x), high_list_dir))))\n",
        "\n",
        "    return low_dim, high_dim\n",
        "\n",
        "\n",
        "def transform_to_tensor(C, U, p):\n",
        "    \n",
        "    coords = pd.DataFrame(C, columns =['x', 'y'])\n",
        "    maps_x = {}\n",
        "    maps_y = {}\n",
        "\n",
        "    for ind, val in enumerate(sorted(coords['x'].unique())):\n",
        "        maps_x[val] = ind\n",
        "\n",
        "    for ind, val in enumerate(sorted(coords['y'].unique())):\n",
        "        maps_y[val] = ind\n",
        "      \n",
        "    coords['x'] = coords['x'].map(maps_x).astype(int)\n",
        "    coords['y'] = coords['y'].map(maps_y).astype(int)\n",
        "    \n",
        "    U = pd.DataFrame(U, columns=['U_x', 'U_y'])\n",
        "    p = pd.DataFrame(p, columns=['p'])\n",
        "    \n",
        "    result = np.zeros((int(coords['x'].max())+1, \n",
        "                       int(coords['y'].max())+1,\n",
        "                       3\n",
        "                     ))\n",
        "\n",
        "    data = coords.join(U).join(p)\n",
        "    for i in range(len(data)):\n",
        "        point = data.iloc[i]\n",
        "        x, y = point['x'], point['y']\n",
        "        result[int(x)][int(y)][0] = point['U_x']\n",
        "        result[int(x)][int(y)][1] = point['U_y']\n",
        "        result[int(x)][int(y)][2] = point['p']\n",
        "    return result, data\n",
        "\n",
        "# Python function to manipulate OpenFOAM files\n",
        "# Developer: Jian-Xun Wang (jwang33@nd.edu)\n",
        "\n",
        "###############################################################################\n",
        "\n",
        "# system import\n",
        "import numpy as np\n",
        "import numpy.matlib\n",
        "import sys # Add extra path/directory\n",
        "import os\n",
        "import os.path as ospt\n",
        "import shutil\n",
        "import subprocess # Call the command line\n",
        "from subprocess import call\n",
        "import matplotlib.pyplot as plt # For plotting\n",
        "import re\n",
        "import tempfile\n",
        "import pdb\n",
        "from matplotlib import pyplot as plt\n",
        "# local import\n",
        "from PIL import Image\n",
        "import pandas as pd\n",
        "from mpl_toolkits.mplot3d import Axes3D\n",
        "from sklearn.neural_network import MLPRegressor\n",
        "import multiprocessing\n",
        "from functools import partial\n",
        "import time\n",
        "import multiprocessing\n",
        "from functools import partial\n",
        "\n",
        "import scipy.sparse as sp\n",
        "\n",
        "global unitTest \n",
        "unitTest = False;\n",
        "\n",
        "\n",
        "\n",
        "\n",
        "\n",
        "\n",
        "def readVectorFromFile(UFile):\n",
        "\t\"\"\" \n",
        "\tArg: \n",
        "\ttauFile: The directory path of OpenFOAM vector file (e.g., velocity)\n",
        "\n",
        "\tRegurn: \n",
        "\tvector: Matrix of vector    \n",
        "\t\"\"\"\n",
        "\tresMid = extractVector(UFile)\n",
        "\tfout = open('Utemp', 'w');\n",
        "\tglob_pattern = resMid.group()\n",
        "\tglob_pattern = re.sub(r'\\(', '', glob_pattern)\n",
        "\tglob_pattern = re.sub(r'\\)', '', glob_pattern)\n",
        "\tfout.write(glob_pattern)\n",
        "\tfout.close();\n",
        "\tvector = np.loadtxt('Utemp')\n",
        "\treturn vector\n",
        "\n",
        "\n",
        "\n",
        "\n",
        "\n",
        "\t\n",
        "def readScalarFromFile(fileName):    \n",
        "\t\"\"\" \n",
        "\n",
        "\tArg: \n",
        "\tfileName: The file name of OpenFOAM scalar field\n",
        "\n",
        "\tRegurn: \n",
        "\ta vector of scalar field    \n",
        "\t\"\"\"\n",
        "\tresMid = extractScalar(fileName)\n",
        "\t\n",
        "\t# write it in Tautemp \n",
        "\tfout = open('temp.txt', 'w')\n",
        "\tglob_patternx = resMid.group()\n",
        "\tglob_patternx = re.sub(r'\\(', '', glob_patternx)\n",
        "\tglob_patternx = re.sub(r'\\)', '', glob_patternx)\n",
        "\tfout.write(glob_patternx)\n",
        "\tfout.close();\n",
        "\tscalarVec = np.loadtxt('temp.txt')\n",
        "\treturn scalarVec\n",
        "\n",
        "\n",
        "################################################ Regular Expression ##################################################### \n",
        "\n",
        "\n",
        "def extractVector(vectorFile):\n",
        "\t\"\"\" Function is using regular expression select Vector value out\n",
        "\t\n",
        "\tArgs:\n",
        "\tUFile: The directory path of file: U\n",
        "\n",
        "\tReturns:\n",
        "\tresMid: the U as (Ux1,Uy1,Uz1);(Ux2,Uy2,Uz2);........\n",
        "\t\"\"\"\n",
        "\n",
        "\tfin = open(vectorFile, 'r')  # need consider directory\n",
        "\tline = fin.read() # line is U file to read\n",
        "\tfin.close()\n",
        "\t### select U as (X X X)pattern (Using regular expression)\n",
        "\tpatternMid = re.compile(r\"\"\"\n",
        "\t(\n",
        "\t\\(                                                   # match(\n",
        "\t[\\+\\-]?[\\d]+([\\.][\\d]*)?([Ee][+-]?[\\d]+)?            # match figures\n",
        "\t(\\ )                                                 # match space\n",
        "\t[\\+\\-]?[\\d]+([\\.][\\d]*)?([Ee][+-]?[\\d]+)?            # match figures\n",
        "\t(\\ )                                                 # match space\n",
        "\t[\\+\\-]?[\\d]+([\\.][\\d]*)?([Ee][+-]?[\\d]+)?            # match figures\n",
        "\t\\)                                                   # match )\n",
        "\t\\n                                                   # match next line\n",
        "\t)+                                                   # search greedly\n",
        "\t\"\"\",re.DOTALL | re.VERBOSE)\n",
        "\tresMid = patternMid.search(line)\n",
        "\treturn resMid    \n",
        "\t\n",
        "def extractScalar(scalarFile):\n",
        "\t\"\"\" subFunction of readTurbStressFromFile\n",
        "\t\tUsing regular expression to select scalar value out \n",
        "\t\n",
        "\tArgs:\n",
        "\tscalarFile: The directory path of file of scalar\n",
        "\n",
        "\tReturns:\n",
        "\tresMid: scalar selected;\n",
        "\t\t\tyou need use resMid.group() to see the content.\n",
        "\t\"\"\"\n",
        "\tfin = open(scalarFile, 'r')  # need consider directory\n",
        "\tline = fin.read() # line is k file to read\n",
        "\tfin.close()\n",
        "\t### select k as ()pattern (Using regular expression)\n",
        "\tpatternMid = re.compile(r\"\"\"\n",
        "\t\t\\(                                                   # match\"(\"\n",
        "\t\t\\n                                                   # match next line\n",
        "\t\t(\n",
        "\t\t[\\+\\-]?[\\d]+([\\.][\\d]*)?([Ee][+-]?[\\d]+)?            # match figures\n",
        "\t\t\\n                                                   # match next line\n",
        "\t\t)+                                                   # search greedly\n",
        "\t\t\\)                                                   # match\")\"\n",
        "\t\"\"\",re.DOTALL | re.VERBOSE)\n",
        "\tresMid = patternMid.search(line)\n",
        "\n",
        "\treturn resMid\n"
      ]
    },
    {
      "cell_type": "markdown",
      "id": "0e3e500b-4e22-41ee-ae6d-36ec2b544efe",
      "metadata": {
        "id": "0e3e500b-4e22-41ee-ae6d-36ec2b544efe"
      },
      "source": [
        "### Пример"
      ]
    },
    {
      "cell_type": "code",
      "execution_count": 5,
      "id": "6f86f233-8c65-4025-86b3-aba25d217fd5",
      "metadata": {
        "id": "6f86f233-8c65-4025-86b3-aba25d217fd5"
      },
      "outputs": [],
      "source": [
        "def convertOFMeshToImage_StructuredMesh(nx,ny,MeshFile,FileName,ext,mriLevel=0,plotFlag=True,ReshapeOrder = 'F'):\n",
        "\ttitle=['x','y']\n",
        "\tOFVector=None\n",
        "\tOFScalar=None\n",
        "\tfor i in range(len(FileName)):\n",
        "\t\tif FileName[i][-1]=='U':\n",
        "\t\t\tOFVector=readVectorFromFile(FileName[i])\n",
        "\t\t\ttitle.append('u')\n",
        "\t\t\ttitle.append('v')\n",
        "\t\telif FileName[i][-1]=='p':\n",
        "\t\t\tOFScalar=readScalarFromFile(FileName[i])\n",
        "\t\t\ttitle.append('p')\n",
        "\t\telif FileName[i][-1]=='T':\n",
        "\t\t\tOFScalar=readScalarFromFile(FileName[i])\n",
        "\t\t\ttitle.append('T')\n",
        "\t\telse:\n",
        "\t\t\tprint('Variable name is not clear')\n",
        "\t\t\texit()\n",
        "\tnVar=len(title)\n",
        "\tOFMesh=readVectorFromFile(MeshFile)\n",
        "\tNg=OFMesh.shape[0]\n",
        "\tOFCase=np.zeros([Ng,nVar])\n",
        "\tOFCase[:,0:2]=np.copy(OFMesh[:,0:2])\n",
        "\tif OFVector is not None and OFScalar is not None:\n",
        "\t\tif mriLevel>1e-16:\n",
        "\t\t\tOFVector=foamFileAddNoise.addMRINoise(OFVector,mriLevel)\n",
        "\t\tOFCase[:,2:4]=np.copy(OFVector[:,0:2])\n",
        "\t\tOFCase[:,4]=np.copy(OFScalar)\n",
        "\telif OFScalar is not None:\n",
        "\t\tOFCase[:,2]=np.copy(OFScalar)\n",
        "\tOFPic=np.reshape(OFCase, (ny,nx,nVar), order=ReshapeOrder)\n",
        "\tif plotFlag:\n",
        "\t\tpass\t#plt.show()\n",
        "\treturn OFPic #torch.from_numpy(OFPic)"
      ]
    },
    {
      "cell_type": "code",
      "execution_count": 9,
      "id": "7733b224-da80-42aa-a4bc-b2635808b61d",
      "metadata": {
        "id": "7733b224-da80-42aa-a4bc-b2635808b61d"
      },
      "outputs": [],
      "source": [
        "def read_tensor_low(path):\n",
        "    ### подгрузка изображения низкого разрешения\n",
        "    path = max_timestep(path)\n",
        "    feats = convertOFMeshToImage_StructuredMesh(40, 16, \n",
        "                                                f'{path}/C',\n",
        "                                                [f'{path}/U',\n",
        "                                                 f'{path}/p'],\n",
        "                                                [0,1,0,1],0.0,False)\n",
        "    feats = cv2.resize(feats, (252, 64), interpolation=cv2.INTER_LANCZOS4)\n",
        "    feats = torch.Tensor(feats)\n",
        "    return feats \n",
        "\n",
        "def read_tensor_high(path):\n",
        "    path = max_timestep(path)\n",
        "    answer = convertOFMeshToImage_StructuredMesh(nx=252, ny=64, MeshFile=f'{path}/C',\n",
        "                                                 FileName=[f'{path}/U',\n",
        "                                                           f'{path}/p'],\n",
        "                                                 ext=None)\n",
        "    answer = torch.Tensor(answer)\n",
        "    return answer"
      ]
    },
    {
      "cell_type": "code",
      "source": [],
      "metadata": {
        "id": "E_2hGYKXX4BE"
      },
      "id": "E_2hGYKXX4BE",
      "execution_count": null,
      "outputs": []
    },
    {
      "cell_type": "code",
      "execution_count": 10,
      "id": "d2dc3d0c-0b24-40b4-b398-7a698d925acd",
      "metadata": {
        "id": "d2dc3d0c-0b24-40b4-b398-7a698d925acd"
      },
      "outputs": [],
      "source": [
        "path_to_geometry='/content/sample_data/data/data_step'\n",
        "\n",
        "low_dim_files = [os.path.join(path_to_geometry,LOW_DIM, x) \n",
        "                 for x in os.listdir(f'{path_to_geometry}/low_dim')\n",
        "                 if x != '.DS_Store']\n",
        "high_dim_files = [os.path.join(path_to_geometry,HIGH_DIM, x) \n",
        "                  for x in os.listdir(f'{path_to_geometry}/high_dim')\n",
        "                  if x != '.DS_Store']\n",
        "\n",
        "data = list(zip(low_dim_files, high_dim_files))\n",
        "random.shuffle(data)"
      ]
    },
    {
      "cell_type": "code",
      "execution_count": 11,
      "id": "f86d79fa-4e47-485d-9ed9-1da1bb49422f",
      "metadata": {
        "id": "f86d79fa-4e47-485d-9ed9-1da1bb49422f"
      },
      "outputs": [],
      "source": [
        "train = data[:int(len(data) * 0.8)]\n",
        "val = data[int(len(data) * 0.8):]"
      ]
    },
    {
      "cell_type": "code",
      "execution_count": 13,
      "id": "498e132b-9ba8-4b02-a61e-2383a230971c",
      "metadata": {
        "id": "498e132b-9ba8-4b02-a61e-2383a230971c"
      },
      "outputs": [],
      "source": [
        "import torch\n",
        "import torch.nn as nn\n",
        "import torch.nn.init as init\n",
        "import torch.nn.functional as F\n",
        "\n",
        "class USCNNSep(nn.Module):\n",
        "    def __init__(self,nVarIn=1,nVarOut=1,initWay=None,k=5,s=1,p=2):\n",
        "        super().__init__()\n",
        "        self.conv1=nn.Conv2d(1,16,kernel_size=k, stride=s, padding=p)\n",
        "        self.conv2=nn.Conv2d(16,32,kernel_size=k, stride=s, padding=p)\n",
        "        self.conv3=nn.Conv2d(32,16,kernel_size=k, stride=s, padding=p)\n",
        "        self.conv4=nn.Conv2d(16,1,kernel_size=k, stride=s, padding=p)\n",
        "        self.pixel_shuffle1 = nn.PixelShuffle(1)\n",
        "        self.relu = nn.ReLU()\n",
        "\n",
        "    def forward(self, x):\n",
        "        x1=self.relu(self.conv1(x))\n",
        "        x1=self.relu(self.conv2(x1))\n",
        "        x1=self.relu(self.conv3(x1))\n",
        "        x1=self.pixel_shuffle1(self.conv4(x1))\n",
        "\n",
        "        return x1\n",
        "\n"
      ]
    },
    {
      "cell_type": "code",
      "execution_count": 21,
      "id": "cd96c830-da71-4471-9431-5a579df358c5",
      "metadata": {
        "id": "cd96c830-da71-4471-9431-5a579df358c5"
      },
      "outputs": [],
      "source": [
        "def fit_epoch(model, train, criterion, optimizer):\n",
        "    running_loss = 0.0\n",
        "    running_corrects = 0\n",
        "    processed_data = 0\n",
        "  \n",
        "    for obj in train:\n",
        "        inputs = read_tensor_low(obj[0])\n",
        "        labels = read_tensor_high(obj[1])\n",
        "        \n",
        "        inputs = inputs.to(DEVICE)\n",
        "        labels = labels.to(DEVICE)\n",
        "        \n",
        "        inputs = inputs.reshape(1, 5, 252, 64)\n",
        "        labels = labels.reshape(1, 5, 252, 64)\n",
        "        \n",
        "        inputs = inputs[:, 2, :, :]\n",
        "        labels = labels[:, 2, :, :]\n",
        "        #speed it up\n",
        "        for param in model.parameters():\n",
        "            param.grad = None\n",
        "\n",
        "        outputs = model(inputs)\n",
        "        loss = criterion(outputs, labels)\n",
        "        loss.backward()\n",
        "        optimizer.step()\n",
        "        running_loss += loss.item()\n",
        "        processed_data += 1\n",
        "              \n",
        "    train_loss = running_loss / processed_data\n",
        "    return train_loss\n",
        "\n",
        "\n",
        "def eval_epoch(model, val, criterion):\n",
        "    model.eval()\n",
        "    running_loss = 0.0\n",
        "    running_corrects = 0\n",
        "    processed_size = 0\n",
        "\n",
        "    for obj in val:\n",
        "        inputs = read_tensor_low(obj[0])\n",
        "        labels = read_tensor_high(obj[1])\n",
        "\n",
        "        inputs = inputs.to(DEVICE)\n",
        "        labels = labels.to(DEVICE)\n",
        "        \n",
        "        inputs = inputs.reshape(1, 5, 252, 64)\n",
        "        labels = labels.reshape(1, 5, 252, 64) \n",
        "        \n",
        "        inputs = inputs[:, 2, :, :]\n",
        "        labels = labels[:, 2, :, :]\n",
        "        \n",
        "        with torch.set_grad_enabled(False):\n",
        "            outputs = model(inputs).to(DEVICE)\n",
        "            loss = criterion(outputs, labels)\n",
        "\n",
        "        running_loss += loss.item()\n",
        "        processed_size += 1\n",
        "    val_loss = running_loss / processed_size\n",
        "    return val_loss\n",
        "     "
      ]
    },
    {
      "cell_type": "code",
      "execution_count": 22,
      "id": "60d50d53-4f98-4947-9f6b-328083a458f5",
      "metadata": {
        "id": "60d50d53-4f98-4947-9f6b-328083a458f5"
      },
      "outputs": [],
      "source": [
        "DEVICE = 'cuda'\n",
        "model = USCNNSep().to(DEVICE)\n",
        "criterion = nn.MSELoss()\n",
        "optimizer = torch.optim.Adam(model.parameters())"
      ]
    },
    {
      "cell_type": "code",
      "execution_count": 24,
      "id": "44f3ccf3-ddf5-45f4-bbc0-013fad0705e3",
      "metadata": {
        "collapsed": true,
        "jupyter": {
          "outputs_hidden": true
        },
        "tags": [],
        "colab": {
          "base_uri": "https://localhost:8080/"
        },
        "id": "44f3ccf3-ddf5-45f4-bbc0-013fad0705e3",
        "outputId": "f658e486-2fe3-4aab-af40-d3edafed7d86"
      },
      "outputs": [
        {
          "output_type": "stream",
          "name": "stdout",
          "text": [
            "2196.2670699357986 1.376990722119808\n",
            "3256.528156268597 1.322463008761406\n",
            "3886.4656366229055 1.2934417948126793\n",
            "4120.142578589916 1.2733428955078125\n",
            "4206.805465137959 1.2600382402539254\n",
            "4318.9479154706005 1.2491019695997239\n",
            "4594.496606659889 1.2412059970200062\n",
            "4885.575561201573 1.2352445796132088\n",
            "5007.408232486248 1.2292677253484725\n",
            "4957.149259614945 1.2225022427737713\n",
            "4844.44299801588 1.2150859646499157\n",
            "4654.148590683937 1.2073675557971\n",
            "4453.373417198658 1.2000439569354058\n",
            "4376.589608716965 1.1944269031286239\n",
            "4309.932466244698 1.189780742675066\n",
            "4206.290470969677 1.1851564772427081\n",
            "4158.912952971458 1.1811242632567882\n",
            "3991.8274238467216 1.1772329941391946\n",
            "3863.978393745422 1.173831395059824\n",
            "3764.237532222271 1.1708152778446674\n",
            "3782.877344918251 1.167785831540823\n",
            "3628.798903691769 1.164703156799078\n",
            "3591.931243956089 1.162183004617691\n",
            "3568.0233828783034 1.1597219660878182\n",
            "3479.784633708 1.1571860179305076\n",
            "3490.9019024014474 1.1550751507282258\n",
            "3405.6675691843034 1.1525575503706933\n",
            "3307.4079712748526 1.1503104999661447\n",
            "3206.532818722725 1.1481745280325413\n",
            "3209.1112758278846 1.1461536876857281\n",
            "3118.796866941452 1.143570203334093\n",
            "3070.7531153559685 1.1415496155619622\n",
            "3213.0336133003234 1.13937548995018\n",
            "3197.387923014164 1.1371593803167344\n",
            "3219.459987306595 1.1351459950208664\n",
            "3220.6338054537773 1.1344244442880154\n",
            "3394.4975845694544 1.1329201854765416\n",
            "3405.32550688982 1.1303413644433022\n",
            "3433.3457879543303 1.129227479547262\n",
            "3417.842165648937 1.128160247951746\n",
            "3362.760803580284 1.127871312201023\n",
            "3441.2971074938773 1.1259046725928783\n",
            "3399.0863102555277 1.123739779740572\n",
            "3383.0170468091965 1.1218663342297077\n",
            "3515.9525964140894 1.1199191063642502\n",
            "3593.8257216930388 1.1186528712511064\n",
            "3598.360053360462 1.1171137981116772\n",
            "3733.8955562472343 1.1157038040459155\n",
            "3768.3375271439554 1.113042601943016\n",
            "3766.4058136940002 1.112585223466158\n",
            "3785.18304759264 1.110671377182007\n",
            "3857.0457914948465 1.109192617982626\n",
            "3888.126401376724 1.1069550193846225\n",
            "3886.1451758384705 1.1055871486663817\n",
            "3964.8022243976593 1.1038262717425824\n",
            "3852.506259036064 1.1026699915528297\n",
            "3884.119064223766 1.1010997869074344\n",
            "4007.046088218689 1.0994090378284453\n",
            "3946.2379683971403 1.1003980107605458\n",
            "3830.404106616974 1.09779841452837\n",
            "3958.5740347027777 1.0961866468191146\n",
            "3830.503960740566 1.0952285774052144\n",
            "3896.8132751464846 1.0924545034766198\n",
            "3919.0403162539005 1.0913366839289664\n",
            "3999.223734843731 1.091252587735653\n",
            "3854.122270733118 1.0899569511413574\n",
            "3888.6687877237796 1.0886075608432293\n",
            "3879.3799167335033 1.0872683599591255\n",
            "3922.179550367594 1.0853280067443847\n",
            "3861.1418618142607 1.0845684684813022\n",
            "3918.9655806720257 1.0837995618581773\n",
            "4041.538638973236 1.0832558020949363\n",
            "3893.3865315556527 1.0839039258658887\n",
            "3728.3881805181504 1.0824381321668626\n",
            "3787.8606046438217 1.0803442515432835\n",
            "3752.9115603685377 1.0793318465352058\n",
            "3684.358509540558 1.0773093700408936\n",
            "3638.4724395394323 1.0775125905871392\n",
            "3936.817443728447 1.0755854971706866\n",
            "3873.4164061784745 1.0739268340170383\n",
            "3799.923438620567 1.0729237280786037\n",
            "3745.1100502848626 1.071786966174841\n",
            "3756.6507546782495 1.0716536290943623\n",
            "3664.3107841968535 1.0708385594189167\n",
            "3825.3295762181283 1.0692509301006794\n",
            "3831.8952087044718 1.068086241930723\n",
            "3753.889227092266 1.0660371653735639\n",
            "3648.7927996635435 1.0660471625626087\n",
            "3524.067053306103 1.064137553423643\n",
            "3501.761397778988 1.0637001901865006\n",
            "3797.0382259964945 1.064383430033922\n",
            "3924.0675585746767 1.0626919768750667\n",
            "3601.704235160351 1.0612864799797534\n",
            "3555.7652712106706 1.059126777946949\n",
            "3772.835684752464 1.0595923528075217\n",
            "3683.088225722313 1.0595617398619652\n",
            "3889.477369558811 1.0600342079997063\n",
            "3514.5084729909895 1.0579298816621303\n",
            "3562.367127084732 1.056151159107685\n",
            "3524.20076495409 1.0554517768323421\n"
          ]
        }
      ],
      "source": [
        "from torchmetrics import MeanAbsolutePercentageError\n",
        "\n",
        "for i in range(100):\n",
        "    mse = fit_epoch(model, train, criterion, optimizer)\n",
        "    print(eval_epoch(model, val, MeanAbsolutePercentageError().to(DEVICE)), eval_epoch(model, val, criterion))"
      ]
    },
    {
      "cell_type": "code",
      "execution_count": null,
      "id": "4cedcee2-a91b-4a7c-aae2-31d2d864da06",
      "metadata": {
        "id": "4cedcee2-a91b-4a7c-aae2-31d2d864da06"
      },
      "outputs": [],
      "source": []
    },
    {
      "cell_type": "markdown",
      "id": "d08f1fe9-facf-4012-a37c-7553744fc50b",
      "metadata": {
        "id": "d08f1fe9-facf-4012-a37c-7553744fc50b"
      },
      "source": [
        "# Ненужный код"
      ]
    },
    {
      "cell_type": "code",
      "execution_count": null,
      "id": "f1347044-65c2-4491-8c6e-fe185bc3ebd6",
      "metadata": {
        "id": "f1347044-65c2-4491-8c6e-fe185bc3ebd6"
      },
      "outputs": [],
      "source": [
        "def get_base_pred(i):\n",
        "    low_dim = data[i][0]\n",
        "    \n",
        "    C = read_simulation(low_dim)[0]\n",
        "    U = read_simulation(low_dim)[1]\n",
        "    p = read_simulation(low_dim)[2]\n",
        "    U = U[:, :2]\n",
        "    C = C[:, :2]\n",
        "    p = p\n",
        "    plt.scatter(x=C[:,0], y=C[:,1], c=U[:,0])\n",
        "    features, df = transform_to_tensor(C,U,p)\n",
        "    \n",
        "    pred = cv2.resize(features, (80, 240), interpolation=cv2.INTER_CUBIC)\n",
        "    pred = torch.Tensor(pred)\n",
        "    features = torch.Tensor(features)\n",
        "    \n",
        "    high_dim = data[i][1]\n",
        "    \n",
        "    C = read_simulation(high_dim)[0]\n",
        "    U = read_simulation(high_dim)[1]\n",
        "    p = read_simulation(high_dim)[2]\n",
        "    U = U[:, :2]\n",
        "    C = C[:, :2]\n",
        "    p = p\n",
        "    \n",
        "    answer, df = transform_to_tensor(C,U,p)\n",
        "    answer = torch.Tensor(answer)\n",
        "    \n",
        "    return pred, answer, features"
      ]
    },
    {
      "cell_type": "code",
      "execution_count": null,
      "id": "1981eb2e-4ed9-4eab-923b-bff0d36d6b8d",
      "metadata": {
        "id": "1981eb2e-4ed9-4eab-923b-bff0d36d6b8d",
        "outputId": "fb580244-4265-4b4a-d417-5889e2817ffd"
      },
      "outputs": [
        {
          "data": {
            "image/png": "[encoded data removed]",
            "text/plain": [
              "<Figure size 432x288 with 1 Axes>"
            ]
          },
          "metadata": {
            "needs_background": "light"
          },
          "output_type": "display_data"
        }
      ],
      "source": [
        "pred, ans, feats = get_base_pred(10)"
      ]
    },
    {
      "cell_type": "code",
      "execution_count": null,
      "id": "ea073c94-8ee9-440f-b808-6d1a13d1b65e",
      "metadata": {
        "id": "ea073c94-8ee9-440f-b808-6d1a13d1b65e"
      },
      "outputs": [],
      "source": [
        "from sklearn.metrics import mean_absolute_percentage_error\n",
        "from torchmet"
      ]
    },
    {
      "cell_type": "code",
      "execution_count": null,
      "id": "6a71fda5-0869-4d63-aaad-c4c121e525ca",
      "metadata": {
        "id": "6a71fda5-0869-4d63-aaad-c4c121e525ca",
        "outputId": "305ceeaf-9b0d-4ca2-8286-61a076f10d23"
      },
      "outputs": [
        {
          "data": {
            "text/plain": [
              "33866142000000.0"
            ]
          },
          "execution_count": 532,
          "metadata": {},
          "output_type": "execute_result"
        }
      ],
      "source": [
        "mean_absolute_percentage_error(ans[:,:,1], pred[:,:,1])"
      ]
    },
    {
      "cell_type": "code",
      "execution_count": null,
      "id": "e7f9eb40-ed3d-4d57-a375-522ee436eabc",
      "metadata": {
        "id": "e7f9eb40-ed3d-4d57-a375-522ee436eabc",
        "outputId": "2efa20d2-ddf4-4813-a200-6fd9d0ed740f"
      },
      "outputs": [
        {
          "data": {
            "text/plain": [
              "171827920000000.0"
            ]
          },
          "execution_count": 533,
          "metadata": {},
          "output_type": "execute_result"
        }
      ],
      "source": [
        "mean_absolute_percentage_error(ans[:,:,0], pred[:,:,0])"
      ]
    },
    {
      "cell_type": "code",
      "execution_count": null,
      "id": "08526595-756c-4d44-9100-b726a158f753",
      "metadata": {
        "id": "08526595-756c-4d44-9100-b726a158f753",
        "outputId": "6c71aa65-1b3f-4620-fa03-60adfe6f7e0c"
      },
      "outputs": [
        {
          "data": {
            "text/plain": [
              "2091626300000000.0"
            ]
          },
          "execution_count": 534,
          "metadata": {},
          "output_type": "execute_result"
        }
      ],
      "source": [
        "mean_absolute_percentage_error(ans[:,:,2], pred[:,:,2])"
      ]
    },
    {
      "cell_type": "code",
      "execution_count": null,
      "id": "7e69fc4b-6668-4d85-8321-d9097153742c",
      "metadata": {
        "id": "7e69fc4b-6668-4d85-8321-d9097153742c",
        "outputId": "73069b0b-45bb-4ff0-8082-b6cee9319ecf"
      },
      "outputs": [
        {
          "data": {
            "text/plain": [
              "<matplotlib.image.AxesImage at 0x29eb12610>"
            ]
          },
          "execution_count": 535,
          "metadata": {},
          "output_type": "execute_result"
        },
        {
          "data": {
            "image/png": "[encoded data removed]",
            "text/plain": [
              "<Figure size 432x288 with 1 Axes>"
            ]
          },
          "metadata": {
            "needs_background": "light"
          },
          "output_type": "display_data"
        }
      ],
      "source": [
        "plt.imshow(feats[:,:,1])"
      ]
    },
    {
      "cell_type": "code",
      "execution_count": null,
      "id": "8fc80889-7c9f-4f81-b2f2-f7fd3cdd69c3",
      "metadata": {
        "id": "8fc80889-7c9f-4f81-b2f2-f7fd3cdd69c3",
        "outputId": "b28f23ef-7bf7-4088-8281-ed1a879bf1e1"
      },
      "outputs": [
        {
          "data": {
            "text/plain": [
              "<matplotlib.image.AxesImage at 0x29eb27880>"
            ]
          },
          "execution_count": 536,
          "metadata": {},
          "output_type": "execute_result"
        },
        {
          "data": {
            "image/png": "[encoded data removed]",
            "text/plain": [
              "<Figure size 432x288 with 1 Axes>"
            ]
          },
          "metadata": {
            "needs_background": "light"
          },
          "output_type": "display_data"
        }
      ],
      "source": [
        "plt.imshow(pred[:,:,1])"
      ]
    },
    {
      "cell_type": "code",
      "execution_count": null,
      "id": "4deb8516-11cd-469d-8f13-1ba43e56c1c1",
      "metadata": {
        "id": "4deb8516-11cd-469d-8f13-1ba43e56c1c1",
        "outputId": "9dcf050d-7948-450f-93b8-610c00e268c9"
      },
      "outputs": [
        {
          "data": {
            "text/plain": [
              "<matplotlib.image.AxesImage at 0x29ebdc610>"
            ]
          },
          "execution_count": 537,
          "metadata": {},
          "output_type": "execute_result"
        },
        {
          "data": {
            "image/png": "[encoded data removed]",
            "text/plain": [
              "<Figure size 432x288 with 1 Axes>"
            ]
          },
          "metadata": {
            "needs_background": "light"
          },
          "output_type": "display_data"
        }
      ],
      "source": [
        "plt.imshow(ans[:,:,1])"
      ]
    },
    {
      "cell_type": "code",
      "execution_count": null,
      "id": "76fcc952-5bb0-4c7d-910f-234c9a32695c",
      "metadata": {
        "id": "76fcc952-5bb0-4c7d-910f-234c9a32695c",
        "outputId": "9ddccf49-36c6-4db4-83e3-3943804f7ae1"
      },
      "outputs": [
        {
          "data": {
            "text/plain": [
              "tensor(145334.2031)"
            ]
          },
          "execution_count": 538,
          "metadata": {},
          "output_type": "execute_result"
        }
      ],
      "source": [
        "MeanAbsolutePercentageError()(pred, ans)"
      ]
    },
    {
      "cell_type": "code",
      "execution_count": null,
      "id": "3cbd25fd-2857-4252-b683-5f3589bfd002",
      "metadata": {
        "id": "3cbd25fd-2857-4252-b683-5f3589bfd002"
      },
      "outputs": [],
      "source": [
        "base_T = torch.Tensor(base)\n",
        "answer_T = torch.Tensor(answer)\n",
        "answer2_T = torch.Tensor(answer2)\n"
      ]
    },
    {
      "cell_type": "code",
      "execution_count": null,
      "id": "29a1b701-85a6-4919-b45f-aaa16fdf85d7",
      "metadata": {
        "id": "29a1b701-85a6-4919-b45f-aaa16fdf85d7",
        "outputId": "6b9f3cda-e6c5-4f8c-9fa3-4a7630ed4b56"
      },
      "outputs": [
        {
          "data": {
            "text/plain": [
              "tensor(55306.9805)"
            ]
          },
          "execution_count": 477,
          "metadata": {},
          "output_type": "execute_result"
        }
      ],
      "source": [
        "MeanAbsolutePercentageError()(base_T, answer_T)"
      ]
    },
    {
      "cell_type": "code",
      "execution_count": null,
      "id": "3d6a6973-5862-4471-906b-5b94dc1e27d2",
      "metadata": {
        "id": "3d6a6973-5862-4471-906b-5b94dc1e27d2",
        "outputId": "c95a02ad-84c1-483b-b0ae-c8221ae1d19d"
      },
      "outputs": [
        {
          "data": {
            "text/plain": [
              "tensor(9.0253)"
            ]
          },
          "execution_count": 478,
          "metadata": {},
          "output_type": "execute_result"
        }
      ],
      "source": [
        "MeanAbsolutePercentageError()(answer2_T, answer_T)"
      ]
    },
    {
      "cell_type": "code",
      "execution_count": null,
      "id": "3735394c-7934-4d6e-8273-477481e4be3d",
      "metadata": {
        "id": "3735394c-7934-4d6e-8273-477481e4be3d"
      },
      "outputs": [],
      "source": [
        "base = cv2.resize(features, (80, 240), interpolation=cv2.INTER_CUBIC)"
      ]
    },
    {
      "cell_type": "code",
      "execution_count": null,
      "id": "adb83a85-ac71-4fe1-8ecc-01039276611c",
      "metadata": {
        "collapsed": true,
        "jupyter": {
          "outputs_hidden": true
        },
        "tags": [],
        "id": "adb83a85-ac71-4fe1-8ecc-01039276611c",
        "outputId": "a400c5e4-3ba8-460c-fad2-99a6015580ef"
      },
      "outputs": [
        {
          "name": "stdout",
          "output_type": "stream",
          "text": [
            "(32, 24, 3)\n",
            "(32, 24, 3)\n",
            "(32, 24, 3)\n",
            "(32, 24, 3)\n",
            "(32, 24, 3)\n",
            "(32, 24, 3)\n",
            "(32, 24, 3)\n",
            "(32, 24, 3)\n",
            "(32, 24, 3)\n",
            "(32, 24, 3)\n",
            "(32, 24, 3)\n",
            "(32, 24, 3)\n",
            "(32, 24, 3)\n",
            "(32, 24, 3)\n",
            "(32, 24, 3)\n",
            "(32, 24, 3)\n",
            "(32, 24, 3)\n",
            "(32, 24, 3)\n",
            "(32, 24, 3)\n",
            "(32, 24, 3)\n",
            "(32, 24, 3)\n",
            "(32, 24, 3)\n",
            "(32, 24, 3)\n",
            "(32, 24, 3)\n",
            "(32, 24, 3)\n",
            "(32, 24, 3)\n",
            "(32, 24, 3)\n",
            "(32, 24, 3)\n",
            "(32, 24, 3)\n",
            "(32, 24, 3)\n",
            "(32, 24, 3)\n",
            "(32, 24, 3)\n",
            "(32, 24, 3)\n",
            "(32, 24, 3)\n",
            "(32, 24, 3)\n",
            "(32, 24, 3)\n",
            "(32, 24, 3)\n",
            "(32, 24, 3)\n",
            "(32, 24, 3)\n",
            "(32, 24, 3)\n",
            "(32, 24, 3)\n",
            "(32, 24, 3)\n",
            "(32, 24, 3)\n",
            "(32, 24, 3)\n",
            "(32, 24, 3)\n",
            "(32, 24, 3)\n",
            "(32, 24, 3)\n",
            "(32, 24, 3)\n",
            "(32, 24, 3)\n",
            "(32, 24, 3)\n",
            "(32, 24, 3)\n",
            "(32, 24, 3)\n",
            "(32, 24, 3)\n",
            "(32, 24, 3)\n",
            "(32, 24, 3)\n",
            "(32, 24, 3)\n",
            "(32, 24, 3)\n",
            "(32, 24, 3)\n",
            "(32, 24, 3)\n",
            "(32, 24, 3)\n",
            "(32, 24, 3)\n",
            "(32, 24, 3)\n",
            "(32, 24, 3)\n",
            "(32, 24, 3)\n",
            "(32, 24, 3)\n",
            "(32, 24, 3)\n",
            "(32, 24, 3)\n",
            "(32, 24, 3)\n",
            "(32, 24, 3)\n",
            "(32, 24, 3)\n",
            "(32, 24, 3)\n",
            "(32, 24, 3)\n",
            "(32, 24, 3)\n",
            "(32, 24, 3)\n",
            "(32, 24, 3)\n",
            "(32, 24, 3)\n",
            "(32, 24, 3)\n",
            "(32, 24, 3)\n",
            "(32, 24, 3)\n",
            "(32, 24, 3)\n",
            "(32, 24, 3)\n",
            "(32, 24, 3)\n",
            "(32, 24, 3)\n",
            "(32, 24, 3)\n",
            "(32, 24, 3)\n",
            "(32, 24, 3)\n",
            "(32, 24, 3)\n",
            "(32, 24, 3)\n",
            "(32, 24, 3)\n",
            "(32, 24, 3)\n",
            "(32, 24, 3)\n",
            "(32, 24, 3)\n",
            "(32, 24, 3)\n",
            "(32, 24, 3)\n",
            "(32, 24, 3)\n",
            "(32, 24, 3)\n",
            "(32, 24, 3)\n",
            "(32, 24, 3)\n",
            "(32, 24, 3)\n",
            "(32, 24, 3)\n"
          ]
        }
      ],
      "source": [
        "for f in low_dim_files:\n",
        "    C = read_simulation(f)[0]\n",
        "    U = read_simulation(f)[1]\n",
        "    p = read_simulation(f)[2]\n",
        "    U = U[:, :2]\n",
        "    C = C[:, :2]\n",
        "    p = p\n",
        "    features, data = transform_to_tensor(C,U,p)\n",
        "    print(features.shape)"
      ]
    },
    {
      "cell_type": "code",
      "execution_count": null,
      "id": "86ee5b47-366e-4a9a-b800-633d939ca77a",
      "metadata": {
        "collapsed": true,
        "jupyter": {
          "outputs_hidden": true
        },
        "tags": [],
        "id": "86ee5b47-366e-4a9a-b800-633d939ca77a",
        "outputId": "35dc1df2-7d4b-49e3-be1f-7c4da6b14f51"
      },
      "outputs": [
        {
          "name": "stdout",
          "output_type": "stream",
          "text": [
            "(240, 80, 3)\n",
            "(240, 80, 3)\n",
            "(240, 80, 3)\n",
            "(240, 80, 3)\n",
            "(240, 80, 3)\n",
            "(240, 80, 3)\n",
            "(240, 80, 3)\n",
            "(240, 80, 3)\n",
            "(240, 80, 3)\n",
            "(240, 80, 3)\n"
          ]
        },
        {
          "ename": "KeyboardInterrupt",
          "evalue": "",
          "output_type": "error",
          "traceback": [
            "\u001b[0;31m---------------------------------------------------------------------------\u001b[0m",
            "\u001b[0;31mKeyboardInterrupt\u001b[0m                         Traceback (most recent call last)",
            "Input \u001b[0;32mIn [362]\u001b[0m, in \u001b[0;36m<cell line: 1>\u001b[0;34m()\u001b[0m\n\u001b[1;32m      6\u001b[0m C \u001b[38;5;241m=\u001b[39m C[:, :\u001b[38;5;241m2\u001b[39m]\n\u001b[1;32m      7\u001b[0m p \u001b[38;5;241m=\u001b[39m p\n\u001b[0;32m----> 8\u001b[0m features, data \u001b[38;5;241m=\u001b[39m \u001b[43mtransform_to_tensor\u001b[49m\u001b[43m(\u001b[49m\u001b[43mC\u001b[49m\u001b[43m,\u001b[49m\u001b[43mU\u001b[49m\u001b[43m,\u001b[49m\u001b[43mp\u001b[49m\u001b[43m)\u001b[49m\n\u001b[1;32m      9\u001b[0m \u001b[38;5;28mprint\u001b[39m(features\u001b[38;5;241m.\u001b[39mshape)\n",
            "Input \u001b[0;32mIn [361]\u001b[0m, in \u001b[0;36mtransform_to_tensor\u001b[0;34m(C, U, p)\u001b[0m\n\u001b[1;32m     24\u001b[0m data \u001b[38;5;241m=\u001b[39m coords\u001b[38;5;241m.\u001b[39mjoin(U)\u001b[38;5;241m.\u001b[39mjoin(p)\n\u001b[1;32m     25\u001b[0m \u001b[38;5;28;01mfor\u001b[39;00m i \u001b[38;5;129;01min\u001b[39;00m \u001b[38;5;28mrange\u001b[39m(\u001b[38;5;28mlen\u001b[39m(data)):\n\u001b[0;32m---> 26\u001b[0m     point \u001b[38;5;241m=\u001b[39m \u001b[43mdata\u001b[49m\u001b[38;5;241;43m.\u001b[39;49m\u001b[43miloc\u001b[49m\u001b[43m[\u001b[49m\u001b[43mi\u001b[49m\u001b[43m]\u001b[49m\n\u001b[1;32m     27\u001b[0m     x, y \u001b[38;5;241m=\u001b[39m point[\u001b[38;5;124m'\u001b[39m\u001b[38;5;124mx\u001b[39m\u001b[38;5;124m'\u001b[39m], point[\u001b[38;5;124m'\u001b[39m\u001b[38;5;124my\u001b[39m\u001b[38;5;124m'\u001b[39m]\n\u001b[1;32m     28\u001b[0m     result[\u001b[38;5;28mint\u001b[39m(x)][\u001b[38;5;28mint\u001b[39m(y)][\u001b[38;5;241m0\u001b[39m] \u001b[38;5;241m=\u001b[39m point[\u001b[38;5;124m'\u001b[39m\u001b[38;5;124mU_x\u001b[39m\u001b[38;5;124m'\u001b[39m]\n",
            "File \u001b[0;32m/Library/Frameworks/Python.framework/Versions/3.9/lib/python3.9/site-packages/pandas/core/indexing.py:1073\u001b[0m, in \u001b[0;36m_LocationIndexer.__getitem__\u001b[0;34m(self, key)\u001b[0m\n\u001b[1;32m   1070\u001b[0m axis \u001b[38;5;241m=\u001b[39m \u001b[38;5;28mself\u001b[39m\u001b[38;5;241m.\u001b[39maxis \u001b[38;5;129;01mor\u001b[39;00m \u001b[38;5;241m0\u001b[39m\n\u001b[1;32m   1072\u001b[0m maybe_callable \u001b[38;5;241m=\u001b[39m com\u001b[38;5;241m.\u001b[39mapply_if_callable(key, \u001b[38;5;28mself\u001b[39m\u001b[38;5;241m.\u001b[39mobj)\n\u001b[0;32m-> 1073\u001b[0m \u001b[38;5;28;01mreturn\u001b[39;00m \u001b[38;5;28;43mself\u001b[39;49m\u001b[38;5;241;43m.\u001b[39;49m\u001b[43m_getitem_axis\u001b[49m\u001b[43m(\u001b[49m\u001b[43mmaybe_callable\u001b[49m\u001b[43m,\u001b[49m\u001b[43m \u001b[49m\u001b[43maxis\u001b[49m\u001b[38;5;241;43m=\u001b[39;49m\u001b[43maxis\u001b[49m\u001b[43m)\u001b[49m\n",
            "File \u001b[0;32m/Library/Frameworks/Python.framework/Versions/3.9/lib/python3.9/site-packages/pandas/core/indexing.py:1627\u001b[0m, in \u001b[0;36m_iLocIndexer._getitem_axis\u001b[0;34m(self, key, axis)\u001b[0m\n\u001b[1;32m   1624\u001b[0m \u001b[38;5;66;03m# validate the location\u001b[39;00m\n\u001b[1;32m   1625\u001b[0m \u001b[38;5;28mself\u001b[39m\u001b[38;5;241m.\u001b[39m_validate_integer(key, axis)\n\u001b[0;32m-> 1627\u001b[0m \u001b[38;5;28;01mreturn\u001b[39;00m \u001b[38;5;28;43mself\u001b[39;49m\u001b[38;5;241;43m.\u001b[39;49m\u001b[43mobj\u001b[49m\u001b[38;5;241;43m.\u001b[39;49m\u001b[43m_ixs\u001b[49m\u001b[43m(\u001b[49m\u001b[43mkey\u001b[49m\u001b[43m,\u001b[49m\u001b[43m \u001b[49m\u001b[43maxis\u001b[49m\u001b[38;5;241;43m=\u001b[39;49m\u001b[43maxis\u001b[49m\u001b[43m)\u001b[49m\n",
            "File \u001b[0;32m/Library/Frameworks/Python.framework/Versions/3.9/lib/python3.9/site-packages/pandas/core/frame.py:3720\u001b[0m, in \u001b[0;36mDataFrame._ixs\u001b[0;34m(self, i, axis)\u001b[0m\n\u001b[1;32m   3718\u001b[0m \u001b[38;5;66;03m# if we are a copy, mark as such\u001b[39;00m\n\u001b[1;32m   3719\u001b[0m copy \u001b[38;5;241m=\u001b[39m \u001b[38;5;28misinstance\u001b[39m(new_mgr\u001b[38;5;241m.\u001b[39marray, np\u001b[38;5;241m.\u001b[39mndarray) \u001b[38;5;129;01mand\u001b[39;00m new_mgr\u001b[38;5;241m.\u001b[39marray\u001b[38;5;241m.\u001b[39mbase \u001b[38;5;129;01mis\u001b[39;00m \u001b[38;5;28;01mNone\u001b[39;00m\n\u001b[0;32m-> 3720\u001b[0m result \u001b[38;5;241m=\u001b[39m \u001b[38;5;28;43mself\u001b[39;49m\u001b[38;5;241;43m.\u001b[39;49m\u001b[43m_constructor_sliced\u001b[49m\u001b[43m(\u001b[49m\u001b[43mnew_mgr\u001b[49m\u001b[43m,\u001b[49m\u001b[43m \u001b[49m\u001b[43mname\u001b[49m\u001b[38;5;241;43m=\u001b[39;49m\u001b[38;5;28;43mself\u001b[39;49m\u001b[38;5;241;43m.\u001b[39;49m\u001b[43mindex\u001b[49m\u001b[43m[\u001b[49m\u001b[43mi\u001b[49m\u001b[43m]\u001b[49m\u001b[43m)\u001b[49m\u001b[38;5;241m.\u001b[39m__finalize__(\n\u001b[1;32m   3721\u001b[0m     \u001b[38;5;28mself\u001b[39m\n\u001b[1;32m   3722\u001b[0m )\n\u001b[1;32m   3723\u001b[0m result\u001b[38;5;241m.\u001b[39m_set_is_copy(\u001b[38;5;28mself\u001b[39m, copy\u001b[38;5;241m=\u001b[39mcopy)\n\u001b[1;32m   3724\u001b[0m \u001b[38;5;28;01mreturn\u001b[39;00m result\n",
            "File \u001b[0;32m/Library/Frameworks/Python.framework/Versions/3.9/lib/python3.9/site-packages/pandas/core/series.py:359\u001b[0m, in \u001b[0;36mSeries.__init__\u001b[0;34m(self, data, index, dtype, name, copy, fastpath)\u001b[0m\n\u001b[1;32m    342\u001b[0m \u001b[38;5;28;01mdef\u001b[39;00m \u001b[38;5;21m__init__\u001b[39m(\n\u001b[1;32m    343\u001b[0m     \u001b[38;5;28mself\u001b[39m,\n\u001b[1;32m    344\u001b[0m     data\u001b[38;5;241m=\u001b[39m\u001b[38;5;28;01mNone\u001b[39;00m,\n\u001b[0;32m   (...)\u001b[0m\n\u001b[1;32m    349\u001b[0m     fastpath: \u001b[38;5;28mbool\u001b[39m \u001b[38;5;241m=\u001b[39m \u001b[38;5;28;01mFalse\u001b[39;00m,\n\u001b[1;32m    350\u001b[0m ) \u001b[38;5;241m-\u001b[39m\u001b[38;5;241m>\u001b[39m \u001b[38;5;28;01mNone\u001b[39;00m:\n\u001b[1;32m    352\u001b[0m     \u001b[38;5;28;01mif\u001b[39;00m (\n\u001b[1;32m    353\u001b[0m         \u001b[38;5;28misinstance\u001b[39m(data, (SingleBlockManager, SingleArrayManager))\n\u001b[1;32m    354\u001b[0m         \u001b[38;5;129;01mand\u001b[39;00m index \u001b[38;5;129;01mis\u001b[39;00m \u001b[38;5;28;01mNone\u001b[39;00m\n\u001b[0;32m   (...)\u001b[0m\n\u001b[1;32m    357\u001b[0m     ):\n\u001b[1;32m    358\u001b[0m         \u001b[38;5;66;03m# GH#33357 called with just the SingleBlockManager\u001b[39;00m\n\u001b[0;32m--> 359\u001b[0m         \u001b[43mNDFrame\u001b[49m\u001b[38;5;241;43m.\u001b[39;49m\u001b[38;5;21;43m__init__\u001b[39;49m\u001b[43m(\u001b[49m\u001b[38;5;28;43mself\u001b[39;49m\u001b[43m,\u001b[49m\u001b[43m \u001b[49m\u001b[43mdata\u001b[49m\u001b[43m)\u001b[49m\n\u001b[1;32m    360\u001b[0m         \u001b[38;5;28;01mif\u001b[39;00m fastpath:\n\u001b[1;32m    361\u001b[0m             \u001b[38;5;66;03m# e.g. from _box_col_values, skip validation of name\u001b[39;00m\n\u001b[1;32m    362\u001b[0m             \u001b[38;5;28mobject\u001b[39m\u001b[38;5;241m.\u001b[39m\u001b[38;5;21m__setattr__\u001b[39m(\u001b[38;5;28mself\u001b[39m, \u001b[38;5;124m\"\u001b[39m\u001b[38;5;124m_name\u001b[39m\u001b[38;5;124m\"\u001b[39m, name)\n",
            "File \u001b[0;32m/Library/Frameworks/Python.framework/Versions/3.9/lib/python3.9/site-packages/pandas/core/generic.py:275\u001b[0m, in \u001b[0;36mNDFrame.__init__\u001b[0;34m(self, data, copy, attrs)\u001b[0m\n\u001b[1;32m    273\u001b[0m     attrs \u001b[38;5;241m=\u001b[39m \u001b[38;5;28mdict\u001b[39m(attrs)\n\u001b[1;32m    274\u001b[0m \u001b[38;5;28mobject\u001b[39m\u001b[38;5;241m.\u001b[39m\u001b[38;5;21m__setattr__\u001b[39m(\u001b[38;5;28mself\u001b[39m, \u001b[38;5;124m\"\u001b[39m\u001b[38;5;124m_attrs\u001b[39m\u001b[38;5;124m\"\u001b[39m, attrs)\n\u001b[0;32m--> 275\u001b[0m \u001b[38;5;28;43mobject\u001b[39;49m\u001b[38;5;241;43m.\u001b[39;49m\u001b[38;5;21;43m__setattr__\u001b[39;49m\u001b[43m(\u001b[49m\u001b[38;5;28;43mself\u001b[39;49m\u001b[43m,\u001b[49m\u001b[43m \u001b[49m\u001b[38;5;124;43m\"\u001b[39;49m\u001b[38;5;124;43m_flags\u001b[39;49m\u001b[38;5;124;43m\"\u001b[39;49m\u001b[43m,\u001b[49m\u001b[43m \u001b[49m\u001b[43mFlags\u001b[49m\u001b[43m(\u001b[49m\u001b[38;5;28;43mself\u001b[39;49m\u001b[43m,\u001b[49m\u001b[43m \u001b[49m\u001b[43mallows_duplicate_labels\u001b[49m\u001b[38;5;241;43m=\u001b[39;49m\u001b[38;5;28;43;01mTrue\u001b[39;49;00m\u001b[43m)\u001b[49m\u001b[43m)\u001b[49m\n",
            "\u001b[0;31mKeyboardInterrupt\u001b[0m: "
          ]
        }
      ],
      "source": [
        "for f in high_dim_files:\n",
        "    C = read_simulation(f)[0]\n",
        "    U = read_simulation(f)[1]\n",
        "    p = read_simulation(f)[2]\n",
        "    U = U[:, :2]\n",
        "    C = C[:, :2]\n",
        "    p = p\n",
        "    features, data = transform_to_tensor(C,U,p)\n",
        "    print(features.shape)"
      ]
    },
    {
      "cell_type": "code",
      "execution_count": null,
      "id": "5a397793-9c1b-40b3-ad11-a6c5cf9e848d",
      "metadata": {
        "id": "5a397793-9c1b-40b3-ad11-a6c5cf9e848d"
      },
      "outputs": [],
      "source": [
        "C = read_simulation(low_dim_files[0])[0]\n",
        "U = read_simulation(low_dim_files[0])[1]\n",
        "p = read_simulation(low_dim_files[0])[2]\n",
        "U = U[:, :2]\n",
        "C = C[:, :2]\n",
        "p = p\n",
        "features, data = transform_to_tensor(C,U,p)"
      ]
    },
    {
      "cell_type": "code",
      "execution_count": null,
      "id": "8d19d00d-a5dc-4491-a781-cf4e1aa474c2",
      "metadata": {
        "id": "8d19d00d-a5dc-4491-a781-cf4e1aa474c2"
      },
      "outputs": [],
      "source": [
        "C = read_simulation(high_dim_files[0])[0]\n",
        "U = read_simulation(high_dim_files[0])[1]\n",
        "p = read_simulation(high_dim_files[0])[2]\n",
        "U = U[:, :2]\n",
        "C = C[:, :2]\n",
        "p = p\n",
        "answer, data = transform_to_tensor(C,U,p)"
      ]
    },
    {
      "cell_type": "code",
      "execution_count": null,
      "id": "139f5227-e019-436c-afe5-a091e390ef5c",
      "metadata": {
        "id": "139f5227-e019-436c-afe5-a091e390ef5c",
        "outputId": "b93c47ea-5542-4eff-a810-0d7bf86e9cbb"
      },
      "outputs": [
        {
          "data": {
            "text/plain": [
              "(32, 24, 3)"
            ]
          },
          "execution_count": 386,
          "metadata": {},
          "output_type": "execute_result"
        }
      ],
      "source": [
        "features.shape"
      ]
    },
    {
      "cell_type": "code",
      "execution_count": null,
      "id": "5f19f820-f70e-4367-8063-dd36dc5d7d04",
      "metadata": {
        "id": "5f19f820-f70e-4367-8063-dd36dc5d7d04",
        "outputId": "add4fad7-906a-420c-9363-4c147526b085"
      },
      "outputs": [
        {
          "data": {
            "text/plain": [
              "(240, 80, 3)"
            ]
          },
          "execution_count": 388,
          "metadata": {},
          "output_type": "execute_result"
        }
      ],
      "source": [
        "answer.shape"
      ]
    },
    {
      "cell_type": "code",
      "execution_count": null,
      "id": "01c0c7ed-ab5f-422c-93c8-7cd972f6a4d3",
      "metadata": {
        "id": "01c0c7ed-ab5f-422c-93c8-7cd972f6a4d3",
        "outputId": "9f2e0dfd-fcc2-41e6-a360-72cedbd610ed"
      },
      "outputs": [
        {
          "data": {
            "text/plain": [
              "Text(0.5, 1.0, 'Velocity Vector Field (U)')"
            ]
          },
          "execution_count": 331,
          "metadata": {},
          "output_type": "execute_result"
        },
        {
          "data": {
            "image/png": "[encoded data removed]",
            "text/plain": [
              "<Figure size 432x288 with 2 Axes>"
            ]
          },
          "metadata": {
            "needs_background": "light"
          },
          "output_type": "display_data"
        },
        {
          "data": {
            "image/png": "[encoded data removed]",
            "text/plain": [
              "<Figure size 432x288 with 2 Axes>"
            ]
          },
          "metadata": {
            "needs_background": "light"
          },
          "output_type": "display_data"
        }
      ],
      "source": [
        "import os\n",
        "import matplotlib.pyplot as plt\n",
        "from matplotlib.collections import LineCollection\n",
        "from pykrige import UniversalKriging\n",
        "import numpy as np\n",
        "\n",
        "path_to_data = './data_with_C/data_step 2/high_dim'\n",
        "simulation_name = 'vel1.1616161616161615'\n",
        "\n",
        "\n",
        "simulation = os.path.join(path_to_data, simulation_name)\n",
        "\n",
        "C_high, U_high, p_high = read_simulation(simulation)\n",
        "\n",
        "vmin = np.nanmin(p_high)\n",
        "vmax = np.nanmax(p_high)\n",
        "\n",
        "fig, ax = plt.subplots()\n",
        "\n",
        "contour = plt.tricontourf(C_high[:, 0], C_high[:, 1], p_high, vmin=vmin, vmax=vmax)\n",
        "fig.colorbar(contour, ax=ax, orientation='vertical')\n",
        "ax.set_xlabel(\"X\")\n",
        "ax.set_ylabel(\"Y\")\n",
        "ax.set_title(\"Velocity Vector Field (U)\")\n",
        "\n",
        "\n",
        "path_to_data = './data_with_C/data_step 2/low_dim'\n",
        "simulation_name = 'vel1.1616161616161615'\n",
        "\n",
        "simulation = os.path.join(path_to_data, simulation_name)\n",
        "\n",
        "C_low, U_low, p_low = read_simulation(simulation)\n",
        "\n",
        "krieg = UniversalKriging(C_low[:, 0], C_low[:, 1], p_low, variogram_model='spherical')\n",
        "\n",
        "z, _ = krieg.execute(style='points', xpoints=C_high[:, 0], ypoints=C_high[:, 1])\n",
        "\n",
        "fig, ax = plt.subplots()\n",
        "contour = plt.tricontourf(C_low[:, 0], C_low[:, 1], z, vmin=vmin, vmax=vmax)\n",
        "fig.colorbar(contour, ax=ax, orientation='vertical')\n",
        "ax.set_xlabel(\"X\")\n",
        "ax.set_ylabel(\"Y\")\n",
        "ax.set_title(\"Velocity Vector Field (U)\")\n",
        "\n",
        "\n"
      ]
    },
    {
      "cell_type": "code",
      "execution_count": null,
      "id": "1a515946-19b7-40b2-8a5e-f89f79653103",
      "metadata": {
        "id": "1a515946-19b7-40b2-8a5e-f89f79653103"
      },
      "outputs": [],
      "source": []
    }
  ],
  "metadata": {
    "kernelspec": {
      "display_name": "Python 3 (ipykernel)",
      "language": "python",
      "name": "python3"
    },
    "language_info": {
      "codemirror_mode": {
        "name": "ipython",
        "version": 3
      },
      "file_extension": ".py",
      "mimetype": "text/x-python",
      "name": "python",
      "nbconvert_exporter": "python",
      "pygments_lexer": "ipython3",
      "version": "3.9.10"
    },
    "colab": {
      "provenance": []
    },
    "accelerator": "GPU",
    "gpuClass": "standard"
  },
  "nbformat": 4,
  "nbformat_minor": 5
}